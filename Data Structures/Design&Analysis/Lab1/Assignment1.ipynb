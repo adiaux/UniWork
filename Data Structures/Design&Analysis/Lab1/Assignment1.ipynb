{
 "cells": [
  {
   "cell_type": "code",
   "execution_count": 5,
   "metadata": {},
   "outputs": [
    {
     "output_type": "stream",
     "name": "stdout",
     "text": [
      "The original list is : [2, 7, 7, 11, 24, 24, 24, 29, 36, 36]\nThe list after removing duplicates : [2, 36, 7, 11, 24, 29]\n"
     ]
    }
   ],
   "source": [
    "A = [0,0,1,1,1,2,2,3,3,4]\n",
    "print (\"The original list is : \" +  str(A))  \n",
    "A = list(set(A)) \n",
    "print (\"The list after removing duplicates : \" + str(A)) \n",
    "len(list(set(A)) )"
   ]
  },
  {
   "cell_type": "code",
   "execution_count": null,
   "metadata": {},
   "outputs": [],
   "source": []
  }
 ],
 "metadata": {
  "kernelspec": {
   "name": "python3",
   "display_name": "Python 3",
   "language": "python"
  }
 },
 "nbformat": 4,
 "nbformat_minor": 5
}